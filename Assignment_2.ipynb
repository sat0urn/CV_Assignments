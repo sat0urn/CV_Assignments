{
  "nbformat": 4,
  "nbformat_minor": 0,
  "metadata": {
    "colab": {
      "provenance": [],
      "toc_visible": true
    },
    "kernelspec": {
      "name": "python3",
      "display_name": "Python 3"
    },
    "language_info": {
      "name": "python"
    }
  },
  "cells": [
    {
      "cell_type": "markdown",
      "source": [
        "\n",
        "# ***Assignment #2***\n",
        "\n",
        "---\n",
        "\n",
        "By *Komekbayev Zeyin & Kusainov Aslan*\n",
        "\n",
        "---\n",
        "\n"
      ],
      "metadata": {
        "id": "ULdQVkc7XzfZ"
      }
    },
    {
      "cell_type": "markdown",
      "source": [
        "#**Task \\#1:** *Load and preprocess the given dataset.*\n",
        "\n",
        "\n",
        "---\n",
        "\n"
      ],
      "metadata": {
        "id": "FhvsbHt3OCgY"
      }
    },
    {
      "cell_type": "markdown",
      "source": [
        "*Loading and preprocessing data is a crucial step in any machine learning task. It involves tasks like loading the data, handling missing values, normalizing or standardizing features, and splitting the dataset into training and testing sets. This step ensures that the data is in a suitable format for training and evaluating the model.*"
      ],
      "metadata": {
        "id": "qcYxUu9TVe16"
      }
    },
    {
      "cell_type": "code",
      "source": [
        "import os\n",
        "import matplotlib.pyplot as plt\n",
        "from tensorflow.keras.preprocessing.image import ImageDataGenerator\n",
        "from tensorflow.keras.models import Sequential\n",
        "from tensorflow.keras.layers import Conv2D, MaxPooling2D, Flatten, Dense\n",
        "from tensorflow.keras.initializers import RandomNormal, glorot_normal\n",
        "from tensorflow.keras.layers import Dropout, BatchNormalization\n",
        "\n",
        "# Define the path to your dataset\n",
        "dataset_path = '/content/drive/MyDrive/Colab Notebooks/Agricultural-crops'\n",
        "\n",
        "# Create an ImageDataGenerator for data augmentation and normalization\n",
        "datagen = ImageDataGenerator(\n",
        "    rescale=1./255,\n",
        "    shear_range=0.2,\n",
        "    zoom_range=0.2,\n",
        "    horizontal_flip=True,\n",
        "    validation_split=0.2  # 20% of the data will be used for validation\n",
        ")\n",
        "\n",
        "# Load and preprocess the training set\n",
        "train_generator = datagen.flow_from_directory(\n",
        "    dataset_path,\n",
        "    target_size=(224, 224),  # Adjust size as needed\n",
        "    batch_size=32,\n",
        "    class_mode='categorical',  # Assuming you have class labels\n",
        "    subset='training'\n",
        ")\n",
        "\n",
        "# Load and preprocess the validation set\n",
        "validation_generator = datagen.flow_from_directory(\n",
        "    dataset_path,\n",
        "    target_size=(224, 224),\n",
        "    batch_size=32,\n",
        "    class_mode='categorical',\n",
        "    subset='validation'\n",
        ")"
      ],
      "metadata": {
        "colab": {
          "base_uri": "https://localhost:8080/"
        },
        "id": "5K_GfmjYF37-",
        "outputId": "3c8cd685-e4c9-4aef-a7f7-00b8c7faa5bb"
      },
      "execution_count": 2,
      "outputs": [
        {
          "output_type": "stream",
          "name": "stdout",
          "text": [
            "Found 674 images belonging to 30 classes.\n",
            "Found 155 images belonging to 30 classes.\n"
          ]
        }
      ]
    },
    {
      "cell_type": "markdown",
      "source": [
        "#**Task \\#2:** *Implement a CNN with proper architecture (Fully Connected Layers, Convolution Layers, Pooling Layers etc.). Describe your implementation and explain why you choose such architecture.*\n",
        "\n",
        "\n",
        "---\n",
        "\n"
      ],
      "metadata": {
        "id": "k09Y59bkOZMD"
      }
    },
    {
      "cell_type": "markdown",
      "source": [
        "*A Convolutional Neural Network (CNN) is a powerful architecture for image-related tasks. The convolutional layers learn spatial hierarchies of features, capturing patterns at different scales. Fully Connected Layers at the end are commonly used for classification. They take the high-level filtered images from the convolutional layers and flatten them into a vector, which is then used for making predictions.*"
      ],
      "metadata": {
        "id": "DVI5KzrBV-3K"
      }
    },
    {
      "cell_type": "code",
      "source": [
        "# Define the CNN architecture\n",
        "model = Sequential()\n",
        "\n",
        "# Convolutional layers\n",
        "model.add(Conv2D(32, (3, 3), activation='relu', input_shape=(224, 224, 3)))\n",
        "model.add(MaxPooling2D(pool_size=(2, 2)))\n",
        "\n",
        "model.add(Conv2D(64, (3, 3), activation='relu'))\n",
        "model.add(MaxPooling2D(pool_size=(2, 2)))\n",
        "\n",
        "model.add(Conv2D(128, (3, 3), activation='relu'))\n",
        "model.add(MaxPooling2D(pool_size=(2, 2)))\n",
        "\n",
        "# Fully connected layers\n",
        "model.add(Flatten())\n",
        "model.add(Dense(512, activation='relu'))\n",
        "model.add(Dense(30, activation='softmax'))  # Assuming 30 output classes\n",
        "\n",
        "# Compile the model\n",
        "model.compile(optimizer='adam', loss='categorical_crossentropy', metrics=['accuracy'])"
      ],
      "metadata": {
        "id": "ohS7t8VVF5P8"
      },
      "execution_count": 8,
      "outputs": []
    },
    {
      "cell_type": "markdown",
      "source": [
        "#**Task \\#3:** *Implement chosen architecture above with Sigmoid and ReLU activations functions. Describe your implementation for each activation function.*\n",
        "\n",
        "\n",
        "---\n",
        "\n"
      ],
      "metadata": {
        "id": "tPD69EBVOmX7"
      }
    },
    {
      "cell_type": "markdown",
      "source": [
        "*Activation functions introduce non-linearity to the model, allowing it to learn complex patterns. Sigmoid is often used in the output layer for binary classification tasks, while ReLU is popular in hidden layers due to its simplicity and ability to mitigate the vanishing gradient problem.*\n",
        "\n",
        "1.   ***Sigmoid:*** Suitable for binary classification tasks where the output needs to be between 0 and 1, representing probabilities.\n",
        "2.   ***ReLU:*** Efficiently handles the vanishing gradient problem and accelerates the convergence of stochastic gradient descent."
      ],
      "metadata": {
        "id": "yOQttw7UWDbP"
      }
    },
    {
      "cell_type": "code",
      "source": [
        "# Define the CNN architecture with ReLU activation\n",
        "model_relu = Sequential()\n",
        "model_relu.add(Conv2D(32, (3, 3), activation='relu', input_shape=(224, 224, 3)))\n",
        "model_relu.add(MaxPooling2D(pool_size=(2, 2)))\n",
        "model_relu.add(Conv2D(64, (3, 3), activation='relu'))\n",
        "model_relu.add(MaxPooling2D(pool_size=(2, 2)))\n",
        "model_relu.add(Conv2D(128, (3, 3), activation='relu'))\n",
        "model_relu.add(MaxPooling2D(pool_size=(2, 2)))\n",
        "model_relu.add(Flatten())\n",
        "model_relu.add(Dense(512, activation='relu'))\n",
        "model_relu.add(Dense(30, activation='softmax'))\n",
        "model_relu.compile(optimizer='adam', loss='categorical_crossentropy', metrics=['accuracy'])\n",
        "\n",
        "# Define the CNN architecture with Sigmoid activation\n",
        "model_sigmoid = Sequential()\n",
        "model_sigmoid.add(Conv2D(32, (3, 3), activation='sigmoid', input_shape=(224, 224, 3)))\n",
        "model_sigmoid.add(MaxPooling2D(pool_size=(2, 2)))\n",
        "model_sigmoid.add(Conv2D(64, (3, 3), activation='sigmoid'))\n",
        "model_sigmoid.add(MaxPooling2D(pool_size=(2, 2)))\n",
        "model_sigmoid.add(Conv2D(128, (3, 3), activation='sigmoid'))\n",
        "model_sigmoid.add(MaxPooling2D(pool_size=(2, 2)))\n",
        "model_sigmoid.add(Flatten())\n",
        "model_sigmoid.add(Dense(512, activation='sigmoid'))\n",
        "model_sigmoid.add(Dense(30, activation='softmax'))\n",
        "model_sigmoid.compile(optimizer='adam', loss='categorical_crossentropy', metrics=['accuracy'])"
      ],
      "metadata": {
        "id": "0bKKROqEF7km"
      },
      "execution_count": 4,
      "outputs": []
    },
    {
      "cell_type": "markdown",
      "source": [
        "#**Task \\#4:** *Initialize your weights with two methods (Small random numbers and Xavier). Describe your implementation for each method.*\n",
        "\n",
        "\n",
        "---\n",
        "\n"
      ],
      "metadata": {
        "id": "wn_cwT6yOoCX"
      }
    },
    {
      "cell_type": "markdown",
      "source": [
        "*Weight initialization is crucial to prevent issues like vanishing or exploding gradients during training.*\n",
        "\n",
        "1.   ***Small random numbers:*** Initialize weights with small random values to break symmetry and ensure that neurons start learning different features.\n",
        "2.   ***Xavier (Glorot) initialization:*** Specially designed for sigmoid and hyperbolic tangent activation functions, providing better convergence by considering the number of input and output neurons."
      ],
      "metadata": {
        "id": "wFyAGZPXWig_"
      }
    },
    {
      "cell_type": "code",
      "source": [
        "# Define the CNN architecture with small random weights\n",
        "model_small_random = Sequential()\n",
        "model_small_random.add(Conv2D(32, (3, 3), activation='relu', kernel_initializer=RandomNormal(), input_shape=(224, 224, 3)))\n",
        "model_small_random.add(MaxPooling2D(pool_size=(2, 2)))\n",
        "model_small_random.add(Conv2D(64, (3, 3), activation='relu', kernel_initializer=RandomNormal()))\n",
        "model_small_random.add(MaxPooling2D(pool_size=(2, 2)))\n",
        "model_small_random.add(Conv2D(128, (3, 3), activation='relu', kernel_initializer=RandomNormal()))\n",
        "model_small_random.add(MaxPooling2D(pool_size=(2, 2)))\n",
        "model_small_random.add(Flatten())\n",
        "model_small_random.add(Dense(512, activation='relu', kernel_initializer=RandomNormal()))\n",
        "model_small_random.add(Dense(30, activation='softmax'))\n",
        "model_small_random.compile(optimizer='adam', loss='categorical_crossentropy', metrics=['accuracy'])\n",
        "\n",
        "# Define the CNN architecture with Xavier initialization\n",
        "model_xavier = Sequential()\n",
        "model_xavier.add(Conv2D(32, (3, 3), activation='relu', kernel_initializer=glorot_normal(), input_shape=(224, 224, 3)))\n",
        "model_xavier.add(MaxPooling2D(pool_size=(2, 2)))\n",
        "model_xavier.add(Conv2D(64, (3, 3), activation='relu', kernel_initializer=glorot_normal()))\n",
        "model_xavier.add(MaxPooling2D(pool_size=(2, 2)))\n",
        "model_xavier.add(Conv2D(128, (3, 3), activation='relu', kernel_initializer=glorot_normal()))\n",
        "model_xavier.add(MaxPooling2D(pool_size=(2, 2)))\n",
        "model_xavier.add(Flatten())\n",
        "model_xavier.add(Dense(512, activation='relu', kernel_initializer=glorot_normal()))\n",
        "model_xavier.add(Dense(30, activation='softmax'))\n",
        "model_xavier.compile(optimizer='adam', loss='categorical_crossentropy', metrics=['accuracy'])"
      ],
      "metadata": {
        "id": "4iwxR0NkGapM"
      },
      "execution_count": 5,
      "outputs": []
    },
    {
      "cell_type": "markdown",
      "source": [
        "#**Task \\#5:** *Apply two regularization methods (Dropout, Batch normalization). Describe your implementation for each method.*\n",
        "\n",
        "\n",
        "---\n",
        "\n"
      ],
      "metadata": {
        "id": "Xse_hGdvOoyU"
      }
    },
    {
      "cell_type": "markdown",
      "source": [
        "*Regularization methods prevent overfitting and enhance the model's generalization ability.*\n",
        "\n",
        "1.   ***Dropout:*** Randomly \"drops out\" a fraction of neurons during training, preventing co-adaptation of feature detectors and improving generalization.\n",
        "2.   ***Batch Normalization:*** Normalizes the input of each layer in a batch, reducing internal covariate shift. It acts as a regularizer and accelerates training."
      ],
      "metadata": {
        "id": "BV2II9CtWwdj"
      }
    },
    {
      "cell_type": "code",
      "source": [
        "# Define the CNN architecture with Dropout\n",
        "model_dropout = Sequential()\n",
        "model_dropout.add(Conv2D(32, (3, 3), activation='relu', input_shape=(224, 224, 3)))\n",
        "model_dropout.add(MaxPooling2D(pool_size=(2, 2)))\n",
        "model_dropout.add(Dropout(0.5))\n",
        "model_dropout.add(Conv2D(64, (3, 3), activation='relu'))\n",
        "model_dropout.add(MaxPooling2D(pool_size=(2, 2)))\n",
        "model_dropout.add(Dropout(0.5))\n",
        "model_dropout.add(Conv2D(128, (3, 3), activation='relu'))\n",
        "model_dropout.add(MaxPooling2D(pool_size=(2, 2)))\n",
        "model_dropout.add(Dropout(0.5))\n",
        "model_dropout.add(Flatten())\n",
        "model_dropout.add(Dense(512, activation='relu'))\n",
        "model_dropout.add(Dropout(0.5))\n",
        "model_dropout.add(Dense(30, activation='softmax'))\n",
        "model_dropout.compile(optimizer='adam', loss='categorical_crossentropy', metrics=['accuracy'])\n",
        "\n",
        "# Define the CNN architecture with Batch Normalization\n",
        "model_batch_norm = Sequential()\n",
        "model_batch_norm.add(Conv2D(32, (3, 3), activation='relu', input_shape=(224, 224, 3)))\n",
        "model_batch_norm.add(BatchNormalization())\n",
        "model_batch_norm.add(MaxPooling2D(pool_size=(2, 2)))\n",
        "model_batch_norm.add(Conv2D(64, (3, 3), activation='relu'))\n",
        "model_batch_norm.add(BatchNormalization())\n",
        "model_batch_norm.add(MaxPooling2D(pool_size=(2, 2)))\n",
        "model_batch_norm.add(Conv2D(128, (3, 3), activation='relu'))\n",
        "model_batch_norm.add(BatchNormalization())\n",
        "model_batch_norm.add(MaxPooling2D(pool_size=(2, 2)))\n",
        "model_batch_norm.add(Flatten())\n",
        "model_batch_norm.add(Dense(512, activation='relu'))\n",
        "model_batch_norm.add(BatchNormalization())\n",
        "model_batch_norm.add(Dense(30, activation='softmax'))\n",
        "model_batch_norm.compile(optimizer='adam', loss='categorical_crossentropy', metrics=['accuracy'])"
      ],
      "metadata": {
        "id": "IryjMprHGdLV"
      },
      "execution_count": 9,
      "outputs": []
    },
    {
      "cell_type": "markdown",
      "source": [
        "#**Task \\#6:** *Describe, compare, and visualize your results.*\n",
        "\n",
        "\n",
        "---\n",
        "\n"
      ],
      "metadata": {
        "id": "H-u71N8hOpWs"
      }
    },
    {
      "cell_type": "markdown",
      "source": [
        "*After training the model, it's crucial to evaluate its performance. This involves measuring the balance between metrics like accuracy by epoch. Visualization includes learning curves.*"
      ],
      "metadata": {
        "id": "Jiey1us8W9_3"
      }
    },
    {
      "cell_type": "code",
      "source": [
        "# Train the models\n",
        "history_relu = model.fit(train_generator, validation_data=validation_generator, epochs=16)\n",
        "history_sigmoid = model_sigmoid.fit(train_generator, validation_data=validation_generator, epochs=16)\n",
        "history_xavier = model_xavier.fit(train_generator, validation_data=validation_generator, epochs=16)\n",
        "history_small_random = model_small_random.fit(train_generator, validation_data=validation_generator, epochs=16)\n",
        "history_batch_norm = model_batch_norm.fit(train_generator, validation_data=validation_generator, epochs=16)\n",
        "history_dropout = model_dropout.fit(train_generator, validation_data=validation_generator, epochs=16)\n",
        "\n",
        "# Plot training history\n",
        "plt.plot(history_relu.history['accuracy'], label='ReLU Train')\n",
        "plt.plot(history_relu.history['val_accuracy'], label='ReLU Validation')\n",
        "plt.plot(history_sigmoid.history['accuracy'], label='Sigmoid Train')\n",
        "plt.plot(history_sigmoid.history['val_accuracy'], label='Sigmoid Validation')\n",
        "plt.plot(history_xavier.history['accuracy'], label='Xavier Train')\n",
        "plt.plot(history_xavier.history['val_accuracy'], label='Xavier Validation')\n",
        "plt.plot(history_small_random.history['accuracy'], label='Small Random Train')\n",
        "plt.plot(history_small_random.history['val_accuracy'], label='Small Random Validation')\n",
        "plt.plot(history_batch_norm.history['accuracy'], label='Batch Norm Train')\n",
        "plt.plot(history_batch_norm.history['val_accuracy'], label='Batch Norm Validation')\n",
        "plt.plot(history_dropout.history['accuracy'], label='Dropout Train')\n",
        "plt.plot(history_dropout.history['val_accuracy'], label='Dropout Validation')\n",
        "\n",
        "# Add similar plots for other models\n",
        "plt.title('Model Training History')\n",
        "plt.xlabel('Epoch')\n",
        "plt.ylabel('Accuracy')\n",
        "plt.legend()\n",
        "plt.show()"
      ],
      "metadata": {
        "colab": {
          "base_uri": "https://localhost:8080/",
          "height": 1000
        },
        "id": "74HA8m10Ge8l",
        "outputId": "6cc9dd43-f73e-46b1-e1b2-074a4a46c32b"
      },
      "execution_count": 7,
      "outputs": [
        {
          "output_type": "stream",
          "name": "stdout",
          "text": [
            "Epoch 1/10\n",
            "22/22 [==============================] - 198s 9s/step - loss: 4.2755 - accuracy: 0.0386 - val_loss: 3.3559 - val_accuracy: 0.0710\n",
            "Epoch 2/10\n",
            "22/22 [==============================] - 58s 3s/step - loss: 3.2533 - accuracy: 0.0950 - val_loss: 3.1385 - val_accuracy: 0.1032\n",
            "Epoch 3/10\n",
            "22/22 [==============================] - 70s 3s/step - loss: 2.9673 - accuracy: 0.1335 - val_loss: 2.9361 - val_accuracy: 0.1161\n",
            "Epoch 4/10\n",
            "22/22 [==============================] - 59s 3s/step - loss: 2.6378 - accuracy: 0.2211 - val_loss: 2.9953 - val_accuracy: 0.1871\n",
            "Epoch 5/10\n",
            "22/22 [==============================] - 60s 3s/step - loss: 2.5064 - accuracy: 0.2626 - val_loss: 2.9256 - val_accuracy: 0.2452\n",
            "Epoch 6/10\n",
            "22/22 [==============================] - 58s 3s/step - loss: 2.2268 - accuracy: 0.3501 - val_loss: 2.8768 - val_accuracy: 0.2065\n",
            "Epoch 7/10\n",
            "22/22 [==============================] - 58s 3s/step - loss: 2.0840 - accuracy: 0.3961 - val_loss: 2.9392 - val_accuracy: 0.2387\n",
            "Epoch 8/10\n",
            "22/22 [==============================] - 58s 3s/step - loss: 1.9260 - accuracy: 0.4318 - val_loss: 2.7353 - val_accuracy: 0.2452\n",
            "Epoch 9/10\n",
            "22/22 [==============================] - 60s 3s/step - loss: 1.6855 - accuracy: 0.5312 - val_loss: 3.1244 - val_accuracy: 0.2065\n",
            "Epoch 10/10\n",
            "22/22 [==============================] - 59s 3s/step - loss: 1.5936 - accuracy: 0.5593 - val_loss: 3.0317 - val_accuracy: 0.2129\n",
            "Epoch 1/10\n",
            "22/22 [==============================] - 70s 3s/step - loss: 4.0673 - accuracy: 0.0341 - val_loss: 3.5053 - val_accuracy: 0.0387\n",
            "Epoch 2/10\n",
            "22/22 [==============================] - 65s 3s/step - loss: 3.5045 - accuracy: 0.0386 - val_loss: 3.4292 - val_accuracy: 0.0387\n",
            "Epoch 3/10\n",
            "22/22 [==============================] - 64s 3s/step - loss: 3.4658 - accuracy: 0.0252 - val_loss: 3.3965 - val_accuracy: 0.0452\n",
            "Epoch 4/10\n",
            "22/22 [==============================] - 65s 3s/step - loss: 3.4325 - accuracy: 0.0430 - val_loss: 3.4114 - val_accuracy: 0.0387\n",
            "Epoch 5/10\n",
            "22/22 [==============================] - 62s 3s/step - loss: 3.4581 - accuracy: 0.0341 - val_loss: 3.4126 - val_accuracy: 0.0323\n",
            "Epoch 6/10\n",
            "22/22 [==============================] - 62s 3s/step - loss: 3.4563 - accuracy: 0.0237 - val_loss: 3.4424 - val_accuracy: 0.0387\n",
            "Epoch 7/10\n",
            "22/22 [==============================] - 69s 3s/step - loss: 3.4687 - accuracy: 0.0282 - val_loss: 3.3980 - val_accuracy: 0.0387\n",
            "Epoch 8/10\n",
            "22/22 [==============================] - 63s 3s/step - loss: 3.4591 - accuracy: 0.0430 - val_loss: 3.4292 - val_accuracy: 0.0387\n",
            "Epoch 9/10\n",
            "22/22 [==============================] - 63s 3s/step - loss: 3.4354 - accuracy: 0.0326 - val_loss: 3.4254 - val_accuracy: 0.0387\n",
            "Epoch 10/10\n",
            "22/22 [==============================] - 64s 3s/step - loss: 3.4815 - accuracy: 0.0341 - val_loss: 3.4007 - val_accuracy: 0.0387\n"
          ]
        },
        {
          "output_type": "display_data",
          "data": {
            "text/plain": [
              "<Figure size 640x480 with 1 Axes>"
            ],
            "image/png": "[encoded data removed]"
          },
          "metadata": {}
        }
      ]
    }
  ]
}